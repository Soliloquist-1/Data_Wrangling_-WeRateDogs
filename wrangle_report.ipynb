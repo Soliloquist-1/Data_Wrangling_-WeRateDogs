{
 "cells": [
  {
   "cell_type": "markdown",
   "metadata": {},
   "source": [
    "## Wrangle Report \n",
    "### by Mengting Tang"
   ]
  },
  {
   "cell_type": "markdown",
   "metadata": {},
   "source": [
    "### 1. Introduction\n",
    "This report is intended to show my process and efforts of data gather, assessing and wrangling of the Twitter #WeRateDogs archive."
   ]
  },
  {
   "cell_type": "markdown",
   "metadata": {},
   "source": [
    "### 2. Gathering\n",
    "I gather the data mainly from three sources:\n",
    "1. The Twitter #WeRateDogs archieve mainly from 2015 to 2017, a csv named \"twitter_archive_enhanced.csv\" containing info like tweet content, dog names, timestamp, conveniently provided by Udacity since I don't own a Twitter developer account.\n",
    "2. A tweet image prediction file, called \"image_predictions.csv\", that predicts of what breed each dog is with different confidence levels according to a neural network.\n",
    "3. A file called \"tweet_json.txt\" that contains retweet count and favorite count of each tweet as a supplement."
   ]
  },
  {
   "cell_type": "markdown",
   "metadata": {},
   "source": [
    "### 3. Assessing\n",
    "After gathring and reading in data from the three files, I applied visual assessment and physical assessment on each dataframe respectively and created a summary of issues that include:\n",
    "\n",
    "**Quality Issues**: mainly wrong data types, unnecessary columns, missing values, outliers of ratings, unclear column names. These issues are invalid, inconsistent or inaccurate values that might potentially skew later analysis.\n",
    "\n",
    "**Tidiness Issues**: mainly separate columns that should be combined, multiple datasets that should be combined. These issues mainly have to do with the structure of the data and violate the \"tidy dataset\" requirement.\n",
    "\n",
    "**Note**: Since the project only requires cleaning 8 quality issues and 2 tidiness issues, I didn't fix all the issues I spotted in the cleaning process."
   ]
  },
  {
   "cell_type": "markdown",
   "metadata": {},
   "source": [
    "### 4. Cleaning\n",
    "Therefore, I started fixing the above-mentioned issues one by one following a \"define, code, test\" method and write the result into a csv file called *\"twitter_archive_master.csv\"*.\n",
    "\n",
    "To be more specific, I removed unnecessary columns, converted data types, deleted rows of retweets, fix suspicious denominator values, convert wrong name values including like \"such\", \"an\", and \"the\", convert values in dog_name column to capitalized format, combined \"doggo\", \"puppo\", \"pupper\" & \"floofer\" columns and created a new column named \"dog_type\". "
   ]
  },
  {
   "cell_type": "code",
   "execution_count": null,
   "metadata": {},
   "outputs": [],
   "source": []
  }
 ],
 "metadata": {
  "kernelspec": {
   "display_name": "Python 3",
   "language": "python",
   "name": "python3"
  },
  "language_info": {
   "codemirror_mode": {
    "name": "ipython",
    "version": 3
   },
   "file_extension": ".py",
   "mimetype": "text/x-python",
   "name": "python",
   "nbconvert_exporter": "python",
   "pygments_lexer": "ipython3",
   "version": "3.6.3"
  }
 },
 "nbformat": 4,
 "nbformat_minor": 2
}
